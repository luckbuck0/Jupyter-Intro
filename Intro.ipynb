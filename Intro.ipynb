{
    "cells": [
        {
            "cell_type": "markdown",
            "metadata": {},
            "source": "# Data Science Tools and Ecosystem"
        },
        {
            "cell_type": "markdown",
            "metadata": {},
            "source": "_In this notebook, Data Science Tools and Ecosystem are summarized._\n"
        },
        {
            "cell_type": "markdown",
            "metadata": {},
            "source": "Objectives:\n\n* _List popular languages for Data Science_\n* _List commonly used libraries used by Data Scientists_\n* _Evaluate arithmetic expressions in Python_"
        },
        {
            "cell_type": "markdown",
            "metadata": {},
            "source": "## Author\n_Luckie Bah_"
        },
        {
            "cell_type": "markdown",
            "metadata": {},
            "source": "### Some of the popular languages that Data Scientists use are:\n\n* R Language\n\n* SQL\n\n* Python"
        },
        {
            "cell_type": "markdown",
            "metadata": {},
            "source": "### Some of the commonly used libraries used by Data Scientists include:\n\n* Pandas\n* MatPlotLib\n* SciKit Learn"
        },
        {
            "cell_type": "markdown",
            "metadata": {},
            "source": "|Data Science Tools|\n|----|\n|Jupyter|\n|R| \n|R Studios|"
        },
        {
            "cell_type": "markdown",
            "metadata": {},
            "source": "### Below are a few examples of evaluating arithmetic expressions in Python"
        },
        {
            "cell_type": "code",
            "execution_count": 5,
            "metadata": {},
            "outputs": [
                {
                    "data": {
                        "text/plain": "17"
                    },
                    "execution_count": 5,
                    "metadata": {},
                    "output_type": "execute_result"
                }
            ],
            "source": "#This a simple arithmetic expression to mutiply then add integers\n(3*4)+5"
        },
        {
            "cell_type": "code",
            "execution_count": 6,
            "metadata": {},
            "outputs": [
                {
                    "data": {
                        "text/plain": "3.3333333333333335"
                    },
                    "execution_count": 6,
                    "metadata": {},
                    "output_type": "execute_result"
                }
            ],
            "source": "#This will convert 200 minutes to hours by diving by 60\n200/60"
        },
        {
            "cell_type": "code",
            "execution_count": null,
            "metadata": {},
            "outputs": [],
            "source": ""
        }
    ],
    "metadata": {
        "kernelspec": {
            "display_name": "Python 3.10",
            "language": "python",
            "name": "python3"
        },
        "language_info": {
            "codemirror_mode": {
                "name": "ipython",
                "version": 3
            },
            "file_extension": ".py",
            "mimetype": "text/x-python",
            "name": "python",
            "nbconvert_exporter": "python",
            "pygments_lexer": "ipython3",
            "version": "3.10.9"
        }
    },
    "nbformat": 4,
    "nbformat_minor": 1
}